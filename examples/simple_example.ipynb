{
 "cells": [
  {
   "cell_type": "code",
   "execution_count": 55,
   "id": "0be161a8-2158-47b2-841d-3e410fdc544c",
   "metadata": {},
   "outputs": [],
   "source": [
    "import seabreeze\n",
    "import matplotlib.pyplot as plt\n",
    "import seabreeze.spectrometers as sb\n",
    "# from seabreeze.spectrometers import list_devices, Spectrometer"
   ]
  },
  {
   "cell_type": "code",
   "execution_count": 56,
   "id": "6162616c-2675-4701-aab3-25cd87be64db",
   "metadata": {},
   "outputs": [
    {
     "data": {
      "text/plain": [
       "[<SeaBreezeDevice USB4000:FLMT09584>]"
      ]
     },
     "execution_count": 56,
     "metadata": {},
     "output_type": "execute_result"
    }
   ],
   "source": [
    "# get a list of all connected ocean insight spectrometers\n",
    "devices = sb.list_devices()\n",
    "devices"
   ]
  },
  {
   "cell_type": "code",
   "execution_count": 57,
   "id": "8ef2e90c-d117-4365-96a3-7691a9e0b776",
   "metadata": {},
   "outputs": [
    {
     "data": {
      "text/plain": [
       "<Spectrometer USB4000:FLMT09584>"
      ]
     },
     "execution_count": 57,
     "metadata": {},
     "output_type": "execute_result"
    }
   ],
   "source": [
    "# select a spectrometer\n",
    "# if only one spectrometer is attached you can use the first index 0\n",
    "spec = sb.Spectrometer(devices[0])\n",
    "spec"
   ]
  },
  {
   "cell_type": "code",
   "execution_count": 58,
   "id": "7f2a2a33-50d0-40fc-bac5-4f2c599761f4",
   "metadata": {},
   "outputs": [
    {
     "data": {
      "text/plain": [
       "(10, 655350000)"
      ]
     },
     "execution_count": 58,
     "metadata": {},
     "output_type": "execute_result"
    }
   ],
   "source": [
    "# get integration time limits in microseconds\n",
    "int_limits = spec.integration_time_micros_limits\n",
    "int_limits"
   ]
  },
  {
   "cell_type": "code",
   "execution_count": 59,
   "id": "dc2c027b-d70d-4c15-94cd-ad8e5df1fe26",
   "metadata": {},
   "outputs": [
    {
     "data": {
      "text/plain": [
       "array([ 345.77914   ,  345.99717279,  346.21519272, ..., 1034.25159548,\n",
       "       1034.40556679, 1034.55951579])"
      ]
     },
     "execution_count": 59,
     "metadata": {},
     "output_type": "execute_result"
    }
   ],
   "source": [
    "# get the wavelengths of the spectrometer in nanometers\n",
    "wavelengths = spec.wavelengths()\n",
    "wavelengths"
   ]
  },
  {
   "cell_type": "code",
   "execution_count": 72,
   "id": "248f1489-6532-4570-9540-d22a3fa74fa9",
   "metadata": {},
   "outputs": [
    {
     "data": {
      "text/plain": [
       "65535.0"
      ]
     },
     "execution_count": 72,
     "metadata": {},
     "output_type": "execute_result"
    }
   ],
   "source": [
    "# get max intensitiy of a pixel\n",
    "spec.f.spectrometer.get_maximum_intensity()"
   ]
  },
  {
   "cell_type": "code",
   "execution_count": 73,
   "id": "5e927c50-831d-4c96-93b0-33b668f55a98",
   "metadata": {},
   "outputs": [
    {
     "data": {
      "text/plain": [
       "3648"
      ]
     },
     "execution_count": 73,
     "metadata": {},
     "output_type": "execute_result"
    }
   ],
   "source": [
    "# get the number of pixels\n",
    "spec.f.spectrometer._spectrum_length"
   ]
  },
  {
   "cell_type": "code",
   "execution_count": 74,
   "id": "4213cacb-a0bb-4bb1-85b7-922d17665e52",
   "metadata": {},
   "outputs": [],
   "source": [
    "# set an integration time in microseconds\n",
    "spec.integration_time_micros(1e5)"
   ]
  },
  {
   "cell_type": "code",
   "execution_count": 79,
   "id": "83222973-a6da-44d1-82dc-91db2bfce26d",
   "metadata": {},
   "outputs": [
    {
     "data": {
      "image/png": "[encoded data removed]",
      "text/plain": [
       "<Figure size 432x288 with 1 Axes>"
      ]
     },
     "metadata": {
      "needs_background": "light"
     },
     "output_type": "display_data"
    }
   ],
   "source": [
    "# capture a spectrum with the previously set integration time\n",
    "spectra = spec.intensities()\n",
    "\n",
    "# plot the acquired spectra\n",
    "plt.plot(spectra)\n",
    "plt.show()"
   ]
  }
 ],
 "metadata": {
  "kernelspec": {
   "display_name": "Python 3 (ipykernel)",
   "language": "python",
   "name": "python3"
  },
  "language_info": {
   "codemirror_mode": {
    "name": "ipython",
    "version": 3
   },
   "file_extension": ".py",
   "mimetype": "text/x-python",
   "name": "python",
   "nbconvert_exporter": "python",
   "pygments_lexer": "ipython3",
   "version": "3.9.7"
  }
 },
 "nbformat": 4,
 "nbformat_minor": 5
}
